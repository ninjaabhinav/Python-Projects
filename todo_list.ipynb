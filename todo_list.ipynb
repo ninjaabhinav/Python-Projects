{
 "cells": [
  {
   "cell_type": "code",
   "execution_count": 1,
   "id": "7055793a",
   "metadata": {},
   "outputs": [],
   "source": [
    "todo_list = []"
   ]
  },
  {
   "cell_type": "code",
   "execution_count": 2,
   "id": "415f96f3",
   "metadata": {},
   "outputs": [],
   "source": [
    "def show_menu():\n",
    "    print(\"\\n--- TO-DO LIST MENU ---\")\n",
    "    print(\"1. View Task\")\n",
    "    print(\"2. Add Task\")\n",
    "    print(\"3. Mark Task as Done\")\n",
    "    print(\"4. Delete Task\")\n",
    "    print(\"5. Exit\")"
   ]
  },
  {
   "cell_type": "code",
   "execution_count": 3,
   "id": "cfa44e59",
   "metadata": {},
   "outputs": [],
   "source": [
    "def view_tasks():\n",
    "    if not todo_list:\n",
    "        print(\"No tasks in the list.\")\n",
    "        return\n",
    "    for idx, (task, done) in enumerate(todo_list, start=1):\n",
    "        status = \"✅\" if done else \"❌\"\n",
    "        print(f\"{idx}. {task} [{status}]\")"
   ]
  },
  {
   "cell_type": "code",
   "execution_count": 4,
   "id": "7ece4e98",
   "metadata": {},
   "outputs": [],
   "source": [
    "def add_task():\n",
    "    task = input(\"Enter a new task: \")\n",
    "    todo_list.append((task, False))\n",
    "    print(\"Task added successfully.\")"
   ]
  },
  {
   "cell_type": "code",
   "execution_count": 5,
   "id": "40282501",
   "metadata": {},
   "outputs": [],
   "source": [
    "def mark_done():\n",
    "    vies_tasks()\n",
    "    try:\n",
    "        taks_num = int(input(\"Enter the task number to mark as done: \"))\n",
    "        task, _ = todo_list[task_num - 1]\n",
    "        todo_list[task_num - 1] = task, True\n",
    "        print(\"Task marked as done.\")\n",
    "    except (IndexError, ValueError):\n",
    "        print(\"Invalid task number.\")"
   ]
  },
  {
   "cell_type": "code",
   "execution_count": 6,
   "id": "f2d5dd09",
   "metadata": {},
   "outputs": [],
   "source": [
    "def delete_task():\n",
    "    view_tasks()\n",
    "    try:\n",
    "        task_num = int(input(\"Enter the task number to delete: \"))\n",
    "        todo_list.pop(task_num -1)\n",
    "        print(\"Task deleted\")\n",
    "    except (IndexError, ValueError):\n",
    "        print(\"Invalid task number.\")"
   ]
  },
  {
   "cell_type": "code",
   "execution_count": 7,
   "id": "80f638c1",
   "metadata": {},
   "outputs": [
    {
     "name": "stdout",
     "output_type": "stream",
     "text": [
      "\n",
      "--- TO-DO LIST MENU ---\n",
      "1. View Task\n",
      "2. Add Task\n",
      "3. Mark Task as Done\n",
      "4. Delete Task\n",
      "5. Exit\n",
      "Enter your choice (1-5): 1\n",
      "No tasks in the list.\n",
      "\n",
      "--- TO-DO LIST MENU ---\n",
      "1. View Task\n",
      "2. Add Task\n",
      "3. Mark Task as Done\n",
      "4. Delete Task\n",
      "5. Exit\n",
      "Enter your choice (1-5): 2\n",
      "Enter a new task: Sleep\n",
      "Task added successfully.\n",
      "\n",
      "--- TO-DO LIST MENU ---\n",
      "1. View Task\n",
      "2. Add Task\n",
      "3. Mark Task as Done\n",
      "4. Delete Task\n",
      "5. Exit\n",
      "Enter your choice (1-5): 1\n",
      "1. Sleep [❌]\n",
      "\n",
      "--- TO-DO LIST MENU ---\n",
      "1. View Task\n",
      "2. Add Task\n",
      "3. Mark Task as Done\n",
      "4. Delete Task\n",
      "5. Exit\n",
      "Enter your choice (1-5): 5\n",
      "Goodbye!\n"
     ]
    }
   ],
   "source": [
    "def main():\n",
    "    while True:\n",
    "        show_menu()\n",
    "        choice = input(\"Enter your choice (1-5): \")\n",
    "        if choice == '1':\n",
    "            view_tasks()\n",
    "        elif choice == '2':\n",
    "            add_task()\n",
    "        elif choice == '3':\n",
    "            mark_done()\n",
    "        elif choice == '4':\n",
    "            delete_task()\n",
    "        elif choice == '5':\n",
    "            print(\"Goodbye!\")\n",
    "            break\n",
    "        else:\n",
    "            print(\"Invalid choice. Please enter a number from 1 to 5.\")\n",
    "if __name__ == \"__main__\":\n",
    "    main()"
   ]
  }
 ],
 "metadata": {
  "kernelspec": {
   "display_name": "Python 3 (ipykernel)",
   "language": "python",
   "name": "python3"
  },
  "language_info": {
   "codemirror_mode": {
    "name": "ipython",
    "version": 3
   },
   "file_extension": ".py",
   "mimetype": "text/x-python",
   "name": "python",
   "nbconvert_exporter": "python",
   "pygments_lexer": "ipython3",
   "version": "3.10.9"
  }
 },
 "nbformat": 4,
 "nbformat_minor": 5
}
